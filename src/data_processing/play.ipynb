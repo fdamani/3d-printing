{
 "cells": [
  {
   "cell_type": "code",
   "execution_count": 1,
   "metadata": {},
   "outputs": [],
   "source": [
    "import numpy as np\n",
    "from copy import deepcopy"
   ]
  },
  {
   "cell_type": "code",
   "execution_count": 2,
   "metadata": {},
   "outputs": [],
   "source": [
    "filename = \"../../data/gcode/dino_body_sliced_perimeter_speed_120.gcode\"\n",
    "f = open(filename)\n",
    "x = f.readlines()"
   ]
  },
  {
   "cell_type": "code",
   "execution_count": 3,
   "metadata": {},
   "outputs": [],
   "source": [
    "def cut_header(x):\n",
    "    '''\n",
    "    Returns index for beginning of linear commands.\n",
    "    NOTE: this applies to slic3r + taz6 boilerplate format. heuristic: linear commands start with 3rd \"G92 E0\".\n",
    "    '''\n",
    "    counter = 0\n",
    "    for i,line in enumerate(x):\n",
    "        split_line = line.split(\"\\n\")\n",
    "        if str.startswith(split_line[0], \"G92 E0\"):\n",
    "            counter = counter + 1\n",
    "            if counter == 3: # if third instance\n",
    "                return i\n",
    "\n",
    "def cut_footer(x):\n",
    "    '''\n",
    "    Return index for end of linear commands.\n",
    "    NOTE: this applies to slic3r + taz6 boilerplate format. heuristic: find index for second M400 command.\n",
    "    '''\n",
    "    counter = 0\n",
    "    for i,line in enumerate(x):\n",
    "        split_line = line.split(\"\\n\")\n",
    "        if str.startswith(split_line[0], \"M400\"):\n",
    "            counter = counter + 1\n",
    "            if counter == 2: # if third instance\n",
    "                return i-1\n",
    "\n",
    "def gcode_to_training_data(x, training_data):\n",
    "    cmd_to_feature = {'G': 0, 'X': 1, 'Y': 2, 'Z': 3, 'E': 4, 'F': 5}\n",
    "    curr_values = [0,0,0,0,0,0]\n",
    "    for row,line in enumerate(x):\n",
    "        sep_line = line.split(\"\\n\")[0].split(\"\\n\")[0].split(\" \")\n",
    "        line_cmds = []\n",
    "        for cmd in sep_line:\n",
    "            col = cmd_to_feature[cmd[0]]\n",
    "            value = cmd[1:]\n",
    "            curr_values[col] = value\n",
    "        training_data[row] = curr_values\n",
    "    return training_data"
   ]
  },
  {
   "cell_type": "code",
   "execution_count": 4,
   "metadata": {},
   "outputs": [],
   "source": [
    "def normalize_training_data(x):\n",
    "    # convert G1 to +1 and G92 to -1\n",
    "    x[:, 0][x[:, 0] == 92] = -1\n",
    "    # normalize columns 1 to end by dividing by max\n",
    "    x[:, 1:] = x[:, 1:] / np.max(x[:, 1:],axis=0)\n",
    "    return x"
   ]
  },
  {
   "cell_type": "code",
   "execution_count": 5,
   "metadata": {},
   "outputs": [],
   "source": [
    "start_ind = cut_header(x)\n",
    "end_ind = cut_footer(x)\n",
    "num_commands = end_ind - start_ind\n",
    "\n",
    "training_data = np.zeros((num_commands, 6))\n",
    "x_trimmed = x[start_ind: end_ind]\n",
    "\n",
    "train_raw = gcode_to_training_data(x_trimmed, training_data)"
   ]
  },
  {
   "cell_type": "code",
   "execution_count": 6,
   "metadata": {},
   "outputs": [],
   "source": [
    "train = normalize_training_data(deepcopy(train_raw))"
   ]
  },
  {
   "cell_type": "code",
   "execution_count": 7,
   "metadata": {},
   "outputs": [
    {
     "data": {
      "text/plain": [
       "array([[9.20000e+01, 0.00000e+00, 0.00000e+00, 0.00000e+00, 0.00000e+00,\n",
       "        0.00000e+00],\n",
       "       [1.00000e+00, 0.00000e+00, 0.00000e+00, 3.00000e-01, 0.00000e+00,\n",
       "        1.08000e+04],\n",
       "       [1.00000e+00, 7.84960e+01, 6.76660e+01, 3.00000e-01, 0.00000e+00,\n",
       "        1.08000e+04],\n",
       "       [1.00000e+00, 7.84960e+01, 6.76660e+01, 3.00000e-01, 2.00000e+00,\n",
       "        1.50000e+03],\n",
       "       [1.00000e+00, 8.01280e+01, 6.62690e+01, 3.00000e-01, 2.04280e+00,\n",
       "        1.80000e+03],\n",
       "       [1.00000e+00, 8.24630e+01, 6.48330e+01, 3.00000e-01, 2.09741e+00,\n",
       "        1.80000e+03],\n",
       "       [1.00000e+00, 8.33960e+01, 6.43540e+01, 3.00000e-01, 2.11830e+00,\n",
       "        1.80000e+03],\n",
       "       [1.00000e+00, 8.44090e+01, 6.39280e+01, 3.00000e-01, 2.14021e+00,\n",
       "        1.80000e+03],\n",
       "       [1.00000e+00, 8.75670e+01, 6.34070e+01, 3.00000e-01, 2.20396e+00,\n",
       "        1.80000e+03],\n",
       "       [1.00000e+00, 1.13568e+02, 6.52750e+01, 3.00000e-01, 2.72331e+00,\n",
       "        1.80000e+03]])"
      ]
     },
     "execution_count": 7,
     "metadata": {},
     "output_type": "execute_result"
    }
   ],
   "source": [
    "train_raw[0:10]"
   ]
  },
  {
   "cell_type": "code",
   "execution_count": null,
   "metadata": {},
   "outputs": [],
   "source": []
  },
  {
   "cell_type": "code",
   "execution_count": 8,
   "metadata": {},
   "outputs": [
    {
     "data": {
      "text/plain": [
       "array([[-1.        ,  0.        ,  0.        ,  0.        ,  0.        ,\n",
       "         0.        ],\n",
       "       [ 1.        ,  0.        ,  0.        ,  0.01062323,  0.        ,\n",
       "         1.        ],\n",
       "       [ 1.        ,  0.62860163,  0.49399895,  0.01062323,  0.        ,\n",
       "         1.        ],\n",
       "       [ 1.        ,  0.62860163,  0.49399895,  0.01062323,  0.04055239,\n",
       "         0.13888889],\n",
       "       [ 1.        ,  0.6416708 ,  0.48380008,  0.01062323,  0.04142021,\n",
       "         0.16666667],\n",
       "       [ 1.        ,  0.66036965,  0.47331649,  0.01062323,  0.04252749,\n",
       "         0.16666667],\n",
       "       [ 1.        ,  0.66784118,  0.46981953,  0.01062323,  0.04295106,\n",
       "         0.16666667],\n",
       "       [ 1.        ,  0.67595336,  0.4667095 ,  0.01062323,  0.04339531,\n",
       "         0.16666667],\n",
       "       [ 1.        ,  0.70124285,  0.46290591,  0.01062323,  0.04468792,\n",
       "         0.16666667],\n",
       "       [ 1.        ,  0.90946074,  0.47654334,  0.01062323,  0.05521836,\n",
       "         0.16666667]])"
      ]
     },
     "execution_count": 8,
     "metadata": {},
     "output_type": "execute_result"
    }
   ],
   "source": [
    "train[0:10]"
   ]
  },
  {
   "cell_type": "code",
   "execution_count": null,
   "metadata": {},
   "outputs": [],
   "source": [
    "train_raw[0:10]"
   ]
  },
  {
   "cell_type": "code",
   "execution_count": null,
   "metadata": {},
   "outputs": [],
   "source": []
  },
  {
   "cell_type": "code",
   "execution_count": null,
   "metadata": {},
   "outputs": [],
   "source": [
    "plt.figure(figsize=(20,4))\n",
    "plt.plot(train[0:175,1])"
   ]
  },
  {
   "cell_type": "code",
   "execution_count": null,
   "metadata": {},
   "outputs": [],
   "source": [
    "plt.figure(figsize=(20,4))\n",
    "plt.plot(train[0:500,1])"
   ]
  },
  {
   "cell_type": "code",
   "execution_count": null,
   "metadata": {},
   "outputs": [],
   "source": [
    "plt.figure(figsize=(20,4))\n",
    "plt.plot(train[0:2000,1])"
   ]
  },
  {
   "cell_type": "code",
   "execution_count": null,
   "metadata": {},
   "outputs": [],
   "source": []
  },
  {
   "cell_type": "code",
   "execution_count": null,
   "metadata": {},
   "outputs": [],
   "source": []
  },
  {
   "cell_type": "code",
   "execution_count": null,
   "metadata": {},
   "outputs": [],
   "source": [
    "plt.plot(train[0:100,1])\n",
    "plt.plot(train[0:500,1])\n",
    "plt.plot(train[0:1000,1])"
   ]
  },
  {
   "cell_type": "code",
   "execution_count": null,
   "metadata": {},
   "outputs": [],
   "source": [
    "plt.plot(train[0:1000,2])"
   ]
  },
  {
   "cell_type": "code",
   "execution_count": null,
   "metadata": {},
   "outputs": [],
   "source": []
  }
 ],
 "metadata": {
  "kernelspec": {
   "display_name": "Python 2",
   "language": "python",
   "name": "python2"
  },
  "language_info": {
   "codemirror_mode": {
    "name": "ipython",
    "version": 2
   },
   "file_extension": ".py",
   "mimetype": "text/x-python",
   "name": "python",
   "nbconvert_exporter": "python",
   "pygments_lexer": "ipython2",
   "version": "2.7.14"
  }
 },
 "nbformat": 4,
 "nbformat_minor": 2
}
