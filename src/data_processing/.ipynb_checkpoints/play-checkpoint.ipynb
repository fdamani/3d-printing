{
 "cells": [
  {
   "cell_type": "code",
   "execution_count": 153,
   "metadata": {},
   "outputs": [],
   "source": [
    "import numpy as np"
   ]
  },
  {
   "cell_type": "code",
   "execution_count": 154,
   "metadata": {},
   "outputs": [],
   "source": [
    "filename = \"../../data/gcode/dino_body_sliced_perimeter_speed_120.gcode\"\n",
    "f = open(filename)\n",
    "x = f.readlines()"
   ]
  },
  {
   "cell_type": "code",
   "execution_count": 155,
   "metadata": {},
   "outputs": [],
   "source": [
    "def cut_header(x):\n",
    "    '''\n",
    "    Returns index for beginning of linear commands.\n",
    "    NOTE: this applies to slic3r + taz6 boilerplate format. heuristic: linear commands start with 3rd \"G92 E0\".\n",
    "    '''\n",
    "    counter = 0\n",
    "    for i,line in enumerate(x):\n",
    "        split_line = line.split(\"\\n\")\n",
    "        if str.startswith(split_line[0], \"G92 E0\"):\n",
    "            counter = counter + 1\n",
    "            if counter == 3: # if third instance\n",
    "                return i\n",
    "\n",
    "def cut_footer(x):\n",
    "    '''\n",
    "    Return index for end of linear commands.\n",
    "    NOTE: this applies to slic3r + taz6 boilerplate format. heuristic: find index for second M400 command.\n",
    "    '''\n",
    "    counter = 0\n",
    "    for i,line in enumerate(x):\n",
    "        split_line = line.split(\"\\n\")\n",
    "        if str.startswith(split_line[0], \"M400\"):\n",
    "            counter = counter + 1\n",
    "            if counter == 2: # if third instance\n",
    "                return i-1\n",
    "\n",
    "def gcode_to_training_data(x, training_data):\n",
    "    curr_values = [0,0,0,0,0,0]\n",
    "    for row,line in enumerate(x):\n",
    "        sep_line = line.split(\"\\n\")[0].split(\"\\n\")[0].split(\" \")\n",
    "        line_cmds = []\n",
    "        for cmd in sep_line:\n",
    "            col = cmd_to_feature[cmd[0]]\n",
    "            value = cmd[1:]\n",
    "            curr_values[col] = value\n",
    "        training_data[row] = curr_values\n",
    "    return training_data"
   ]
  },
  {
   "cell_type": "code",
   "execution_count": null,
   "metadata": {},
   "outputs": [],
   "source": [
    "def normalize_training_data(x):\n",
    "    # convert G1 to +1 and G92 to -1\n",
    "    x[:, 0][x[:, 0] == 92] = -1\n",
    "    # normalize columns 1 to end by dividing by max\n",
    "    x[:, 1:] = x[:, 1:] / np.max(x[:, 1:],axis=0)\n",
    "    return x"
   ]
  },
  {
   "cell_type": "code",
   "execution_count": 156,
   "metadata": {},
   "outputs": [],
   "source": [
    "start_ind = cut_header(x)\n",
    "end_ind = cut_footer(x)\n",
    "num_commands = end_ind - start_ind\n",
    "\n",
    "training_data = np.zeros((num_commands, 6))\n",
    "x_trimmed = x[start_ind: end_ind]\n",
    "\n",
    "train = gcode_to_training_data(x_trimmed, training_data)"
   ]
  },
  {
   "cell_type": "code",
   "execution_count": 162,
   "metadata": {},
   "outputs": [
    {
     "data": {
      "text/plain": [
       "array([92.,  1.,  1., ...,  1.,  1.,  1.])"
      ]
     },
     "execution_count": 162,
     "metadata": {},
     "output_type": "execute_result"
    }
   ],
   "source": [
    "train[:,0]"
   ]
  },
  {
   "cell_type": "code",
   "execution_count": 169,
   "metadata": {},
   "outputs": [
    {
     "data": {
      "text/plain": [
       "(array([2.0000e+00, 0.0000e+00, 0.0000e+00, 0.0000e+00, 2.6000e+01,\n",
       "        1.6391e+04, 1.2428e+04, 7.0250e+03, 2.7490e+03, 7.0400e+02]),\n",
       " array([  0.    ,  13.6976,  27.3952,  41.0928,  54.7904,  68.488 ,\n",
       "         82.1856,  95.8832, 109.5808, 123.2784, 136.976 ]),\n",
       " <a list of 10 Patch objects>)"
      ]
     },
     "execution_count": 169,
     "metadata": {},
     "output_type": "execute_result"
    },
    {
     "data": {
      "image/png": "[encoded data removed]",
      "text/plain": [
       "<matplotlib.figure.Figure at 0x11b556650>"
      ]
     },
     "metadata": {},
     "output_type": "display_data"
    }
   ],
   "source": [
    "import matplotlib.pyplot as plt\n",
    "%matplotlib inline\n",
    "plt.hist(train[:,2])"
   ]
  },
  {
   "cell_type": "code",
   "execution_count": 171,
   "metadata": {},
   "outputs": [
    {
     "data": {
      "text/plain": [
       "(array([38195.,     0.,     0.,     0.,     0.,     0.,     0.,     0.,\n",
       "            0.,  1130.]),\n",
       " array([ 1. , 10.1, 19.2, 28.3, 37.4, 46.5, 55.6, 64.7, 73.8, 82.9, 92. ]),\n",
       " <a list of 10 Patch objects>)"
      ]
     },
     "execution_count": 171,
     "metadata": {},
     "output_type": "execute_result"
    },
    {
     "data": {
      "image/png": "[encoded data removed]",
      "text/plain": [
       "<matplotlib.figure.Figure at 0x1147b3310>"
      ]
     },
     "metadata": {},
     "output_type": "display_data"
    }
   ],
   "source": [
    "plt.hist(train[:,0])"
   ]
  },
  {
   "cell_type": "code",
   "execution_count": 173,
   "metadata": {},
   "outputs": [],
   "source": [
    "train[:,0][train[:,0] == 92] = -1"
   ]
  },
  {
   "cell_type": "code",
   "execution_count": 174,
   "metadata": {},
   "outputs": [
    {
     "data": {
      "text/plain": [
       "array([-1.,  1.,  1., ...,  1.,  1.,  1.])"
      ]
     },
     "execution_count": 174,
     "metadata": {},
     "output_type": "execute_result"
    }
   ],
   "source": [
    "train[:,0]"
   ]
  },
  {
   "cell_type": "code",
   "execution_count": 182,
   "metadata": {},
   "outputs": [
    {
     "data": {
      "text/plain": [
       "array([  124.874  ,   136.976  ,    28.24   ,    49.31892, 10800.     ])"
      ]
     },
     "execution_count": 182,
     "metadata": {},
     "output_type": "execute_result"
    }
   ],
   "source": [
    "np.max(train[:, 1:],axis=0)"
   ]
  },
  {
   "cell_type": "code",
   "execution_count": 184,
   "metadata": {},
   "outputs": [
    {
     "data": {
      "text/plain": [
       "136.976"
      ]
     },
     "execution_count": 184,
     "metadata": {},
     "output_type": "execute_result"
    }
   ],
   "source": [
    "np.max(train[:, 2])"
   ]
  },
  {
   "cell_type": "code",
   "execution_count": null,
   "metadata": {},
   "outputs": [],
   "source": []
  }
 ],
 "metadata": {
  "kernelspec": {
   "display_name": "Python 2",
   "language": "python",
   "name": "python2"
  },
  "language_info": {
   "codemirror_mode": {
    "name": "ipython",
    "version": 2
   },
   "file_extension": ".py",
   "mimetype": "text/x-python",
   "name": "python",
   "nbconvert_exporter": "python",
   "pygments_lexer": "ipython2",
   "version": "2.7.14"
  }
 },
 "nbformat": 4,
 "nbformat_minor": 2
}
